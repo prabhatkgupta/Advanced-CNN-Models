{
  "nbformat": 4,
  "nbformat_minor": 0,
  "metadata": {
    "colab": {
      "name": "Siamese_Keras_InceptionModel",
      "version": "0.3.2",
      "provenance": [],
      "collapsed_sections": []
    },
    "kernelspec": {
      "name": "python3",
      "display_name": "Python 3"
    }
  },
  "cells": [
    {
      "cell_type": "code",
      "metadata": {
        "id": "UCGHZG-MhL8k",
        "colab_type": "code",
        "colab": {}
      },
      "source": [
        "import numpy as np\n",
        "import matplotlib.pyplot as plt\n",
        "import os\n",
        "import h5py\n",
        "import tensorflow as tf\n",
        "import keras\n",
        "import PIL\n",
        "import scipy\n",
        "from keras.layers import *\n",
        "from keras.regularizers import *\n",
        "from keras.optimizers import *\n",
        "from keras.models import *\n",
        "from keras.initializers import *\n",
        "from keras.backend import *\n",
        "\n",
        "%matplotlib inline"
      ],
      "execution_count": 0,
      "outputs": []
    },
    {
      "cell_type": "code",
      "metadata": {
        "id": "CCw7T93SicfJ",
        "colab_type": "code",
        "colab": {}
      },
      "source": [
        "os.chdir('drive/My Drive/Dataset')"
      ],
      "execution_count": 0,
      "outputs": []
    },
    {
      "cell_type": "code",
      "metadata": {
        "id": "oaLp-RUKiwPc",
        "colab_type": "code",
        "colab": {}
      },
      "source": [
        "def Load_Data():\n",
        "  \n",
        "  train_dataset = h5py.File('train_happy.h5','r')\n",
        "  test_dataset = h5py.File('test_happy.h5','r')\n",
        "  \n",
        "  train_set_X_orig = np.array(train_dataset['train_set_x'][:])\n",
        "  train_set_Y_orig = np.array(train_dataset['train_set_y'][:])\n",
        "  test_set_X_orig = np.array(test_dataset['test_set_x'][:])\n",
        "  test_set_Y_orig = np.array(test_dataset['test_set_y'][:])\n",
        "  \n",
        "  classes = np.array(test_dataset['list_classes'][:])\n",
        "  \n",
        "  return train_set_X_orig,train_set_Y_orig,test_set_X_orig,test_set_Y_orig,classes"
      ],
      "execution_count": 0,
      "outputs": []
    },
    {
      "cell_type": "code",
      "metadata": {
        "id": "fLoI2o_Sk7vN",
        "colab_type": "code",
        "colab": {
          "base_uri": "https://localhost:8080/",
          "height": 305
        },
        "outputId": "66d90261-e299-4965-9859-401e64ddb21b"
      },
      "source": [
        "train_set_X_orig,train_set_Y_orig,test_set_X_orig,test_set_Y_orig,classes = Load_Data()\n",
        "print(train_set_X_orig.shape,train_set_Y_orig.shape,test_set_X_orig.shape,test_set_Y_orig.shape)\n",
        "i = 5\n",
        "plt.imshow(train_set_X_orig[i])\n",
        "print('It is Image_'+str(i)+' and the person is','Happy.' if classes[test_set_Y_orig[i]] else 'not Happy.')"
      ],
      "execution_count": 6,
      "outputs": [
        {
          "output_type": "stream",
          "text": [
            "(600, 64, 64, 3) (600,) (150, 64, 64, 3) (150,)\n",
            "It is Image_5 and the person is Happy.\n"
          ],
          "name": "stdout"
        },
        {
          "output_type": "display_data",
          "data": {
            "image/png": "[encoded data removed]",
            "text/plain": [
              "<Figure size 432x288 with 1 Axes>"
            ]
          },
          "metadata": {
            "tags": []
          }
        }
      ]
    },
    {
      "cell_type": "code",
      "metadata": {
        "id": "z7baZt17lA_7",
        "colab_type": "code",
        "colab": {}
      },
      "source": [
        "def Reshape_And_Normalize(train_set_X_orig,train_set_Y_orig,test_set_X_orig,test_set_Y_orig):\n",
        " \n",
        "  train_set_X = train_set_X_orig/255\n",
        "  train_set_Y = train_set_Y_orig.reshape((train_set_Y_orig.shape[0],1))\n",
        "  test_set_X = test_set_X_orig/255\n",
        "  test_set_Y = test_set_Y_orig.reshape((test_set_Y_orig.shape[0],1))\n",
        "  \n",
        "  return train_set_X,train_set_Y,test_set_X,test_set_Y"
      ],
      "execution_count": 0,
      "outputs": []
    },
    {
      "cell_type": "code",
      "metadata": {
        "id": "EHXb0vDaSNE6",
        "colab_type": "code",
        "colab": {}
      },
      "source": [
        "def Read_Outputs():\n",
        "  \n",
        "  ptr = open('outputs_siamese.txt','r')\n",
        "  data = ptr.readlines()\n",
        "\n",
        "  train_Y = [float(c.strip()) for c in data]\n",
        "  train_Y = np.array(train_Y)\n",
        "  train_Y = train_Y.reshape((train_Y.shape[0],1))\n",
        "  \n",
        "  return train_Y"
      ],
      "execution_count": 0,
      "outputs": []
    },
    {
      "cell_type": "code",
      "metadata": {
        "id": "kMqOrvrGZElJ",
        "colab_type": "code",
        "colab": {}
      },
      "source": [
        "def Create_Database():\n",
        "  \n",
        "  database = {}\n",
        "  database[\"younes\"] = \"images/younes.jpg\"\n",
        "  database[\"tian\"] = \"images/tian.jpg\"\n",
        "  database[\"andrew\"] = \"images/andrew.jpg\"\n",
        "  database[\"kian\"] = \"images/kian.jpg\"\n",
        "  database[\"dan\"] = \"images/dan.jpg\"\n",
        "  database[\"sebastiano\"] = \"images/sebastiano.jpg\"\n",
        "  database[\"bertrand\"] = \"images/bertrand.jpg\"\n",
        "  database[\"kevin\"] = \"images/kevin.jpg\"\n",
        "  database[\"felix\"] = \"images/felix.jpg\"\n",
        "  database[\"benoit\"] = \"images/benoit.jpg\"\n",
        "  database[\"arnaud\"] = \"images/arnaud.jpg\"\n",
        "  \n",
        "  return database"
      ],
      "execution_count": 0,
      "outputs": []
    },
    {
      "cell_type": "code",
      "metadata": {
        "id": "JgA-7mhjGG2o",
        "colab_type": "code",
        "colab": {}
      },
      "source": [
        "def Data_Preprocessing():\n",
        "\n",
        "  train_set_X_orig,train_set_Y_orig,test_set_X_orig,test_set_Y_orig,classes = Load_Data()\n",
        "  train_set_X,train_set_Y,test_set_X,test_set_Y = Reshape_And_Normalize(train_set_X_orig,train_set_Y_orig,test_set_X_orig,test_set_Y_orig)\n",
        "  \n",
        "  data = train_set_X_orig[0:21,:,:,:]\n",
        "  temp = np.zeros((1,64,64,3))\n",
        "  temp[0,:,:,:] = data[1,:,:,:]\n",
        "  data[1,:,:,:] = data[2,:,:,:]\n",
        "  data[2,:,:,:] = temp[0,:,:,:]\n",
        "  temp[0,:,:,:] = data[15,:,:,:]\n",
        "  data[15,:,:,:] = data[19,:,:,:]\n",
        "  data[19,:,:,:] = temp[0,:,:,:]\n",
        "  temp[0,:,:,:] = data[16,:,:,:]\n",
        "  data[16,:,:,:] = data[17,:,:,:]\n",
        "  data[17,:,:,:] = temp[0,:,:,:]\n",
        "  \n",
        "  train_X1 = data[0:20,:,:,:]\n",
        "  train_X2 = data[1:21,:,:,:]\n",
        "  \n",
        "  train_Y = Read_Outputs()\n",
        "  database = Create_Database()\n",
        "  \n",
        "  return train_X1,train_X2,train_Y,database"
      ],
      "execution_count": 0,
      "outputs": []
    },
    {
      "cell_type": "code",
      "metadata": {
        "id": "Zi5mnumnnnjC",
        "colab_type": "code",
        "colab": {}
      },
      "source": [
        "def Inception_Block(X,channels,layers,XorY):\n",
        "  \n",
        "  X_3x3 = Conv2D(channels[0],kernel_size=(1,1),strides=(1,1),padding='valid',name=\"Inception_Block\"+str(layers)+\"_Conv2D_1x1A\"+XorY)(X)\n",
        "  X_3x3 = BatchNormalization(axis=3,name='Inception_Block'+str(layers)+'_BatchNorm_1'+XorY)(X_3x3)\n",
        "  X_3x3 = Activation('relu')(X_3x3)\n",
        "  X_3x3 = ZeroPadding2D((1,1))(X_3x3)\n",
        "  X_3x3 = Conv2D(channels[1],kernel_size=(3,3),strides=(1,1),padding='valid',name='Inception_Block'+str(layers)+'_Conv2D_3x3'+XorY)(X_3x3)\n",
        "  X_3x3 = BatchNormalization(axis=3,name='Inception_Block'+str(layers)+'_BatchNorm_2'+XorY)(X_3x3)\n",
        "  X_3x3 = Activation('relu')(X_3x3)\n",
        "  \n",
        "  \n",
        "  X_5x5 = Conv2D(channels[2],kernel_size=(1,1),strides=(1,1),padding='valid',name=\"Inception_Block\"+str(layers)+\"_Conv2D_1x1B\"+XorY)(X)\n",
        "  X_5x5 = BatchNormalization(axis=3,name='Inception_Block'+str(layers)+'_BatchNorm_3'+XorY)(X_5x5)\n",
        "  X_5x5 = Activation('relu')(X_5x5)\n",
        "  X_5x5 = ZeroPadding2D((2,2))(X_5x5)\n",
        "  X_5x5 = Conv2D(channels[3],kernel_size=(5,5),strides=(1,1),padding='valid',name='Inception_Block'+str(layers)+'_Conv2D_5x5'+XorY)(X_5x5)\n",
        "  X_5x5 = BatchNormalization(axis=3,name='Inception_Block'+str(layers)+'_BatchNorm_4'+XorY)(X_5x5)\n",
        "  X_5x5 = Activation('relu')(X_5x5)\n",
        "  \n",
        "\n",
        "  X_Pool = MaxPooling2D(pool_size=(2,2),strides=(1,1),padding='same',name='Inception_Block'+str(layers)+'_MaxPool'+XorY)(X)\n",
        "  X_Pool = Conv2D(channels[4],kernel_size=(1,1),strides=(1,1),padding='valid',name='Inception_Block'+str(layers)+'_Conv2D_1x1C'+XorY)(X_Pool)\n",
        "  X_Pool = BatchNormalization(axis=3,name=\"Inception_Block\"+str(layers)+\"_BatchNorm_6\"+XorY)(X_Pool)\n",
        "  X_Pool = Activation('relu')(X_Pool)\n",
        "  \n",
        "  \n",
        "  X_1x1 = Conv2D(channels[5],kernel_size=(1,1),strides=(1,1),padding='valid',name='Inception_Block'+str(layers)+'_Conv2D_1x1D'+XorY)(X)\n",
        "  X_1x1 = BatchNormalization(axis=3,name='Inception_Block'+str(layers)+'_BatchNorm_5'+XorY)(X_1x1)\n",
        "  X_1x1 = Activation('relu')(X_1x1)\n",
        "  \n",
        "  inception = Concatenate(axis=3)([X_3x3,X_5x5,X_Pool,X_1x1])\n",
        "  \n",
        "  return inception"
      ],
      "execution_count": 0,
      "outputs": []
    },
    {
      "cell_type": "code",
      "metadata": {
        "id": "O7QjgJ5h7IYa",
        "colab_type": "code",
        "colab": {}
      },
      "source": [
        "def Propagation(input_shape,output_neurons,channel_list):\n",
        "  \n",
        "  X_input = Input(input_shape)\n",
        "  X = X_input\n",
        "  \n",
        "  X = ZeroPadding2D((3,3))(X)\n",
        "  X = Conv2D(64,kernel_size=(3,3),strides=(1,1),padding='valid',kernel_initializer='glorot_uniform',name='Normal_Block_Conv2D_X')(X)\n",
        "  X = BatchNormalization(axis=3,name='Normal_Block_BatchNorm_X')(X)\n",
        "  X = Activation('relu')(X)\n",
        "  X = MaxPooling2D(pool_size=(2,2),strides=(2,2),padding='valid',name='Normal_Block_MaxPool1_X')(X)\n",
        "  \n",
        "  '''X = Inception_Block(X,channel_list[0],1,'X')\n",
        "  X = Inception_Block(X,channel_list[1],2,'X')\n",
        "  X = Inception_Block(X,channel_list[2],3,'X')\n",
        "  \n",
        "  X = MaxPooling2D(pool_size=(2,2),strides=(2,2),padding='valid',name=\"Normal_Block_MaxPool2_X\")(X)\n",
        "  X = Inception_Block(X,channel_list[3],4,'X')\n",
        "  X = Inception_Block(X,channel_list[4],5,'X')\n",
        "  \n",
        "  X = MaxPooling2D(pool_size=(2,2),strides=(2,2),padding='valid',name=\"Normal_Block_MaxPool3_X\")(X)\n",
        "  X = Inception_Block(X,channel_list[5],6,'X')\n",
        "  X = Inception_Block(X,channel_list[6],7,'X')'''\n",
        "  \n",
        "  X = AveragePooling2D(pool_size=(2,2),strides=(2,2),padding='valid',name='Normal_Block_AveragePool_X')(X)\n",
        "  X = Flatten()(X)\n",
        "  \n",
        "  if(output_neurons > 1):\n",
        "    activation = 'softmax'\n",
        "  else:\n",
        "    activation = 'sigmoid'\n",
        "  X = Dense(output_neurons,activation=activation,kernel_initializer='glorot_uniform',bias_initializer='zeros',name='Normal_Layer_FullyConnected_X',use_bias=True)(X)\n",
        "  \n",
        "  \n",
        "  Y_input = Input(input_shape)\n",
        "  Y = Y_input\n",
        "  \n",
        "  Y = ZeroPadding2D((3,3))(Y)\n",
        "  Y = Conv2D(64,kernel_size=(3,3),strides=(1,1),padding='valid',kernel_initializer='glorot_uniform',name='Normal_Block_Conv2D_Y')(Y)\n",
        "  Y = BatchNormalization(axis=3,name='Normal_Block_BatchNorm_Y')(Y)\n",
        "  Y = Activation('relu')(Y)\n",
        "  Y = MaxPooling2D(pool_size=(2,2),strides=(2,2),padding='valid',name='Normal_Block_MaxPool1_Y')(Y)\n",
        "  \n",
        "  '''Y = Inception_Block(Y,channel_list[0],1,'Y')\n",
        "  Y = Inception_Block(Y,channel_list[1],2,'Y')\n",
        "  Y = Inception_Block(Y,channel_list[2],3,'Y')\n",
        "  \n",
        "  Y = MaxPooling2D(pool_size=(2,2),strides=(2,2),padding='valid',name=\"Normal_Block_MaxPool2_Y\")(Y)\n",
        "  Y = Inception_Block(Y,channel_list[3],4,'Y')\n",
        "  Y = Inception_Block(Y,channel_list[4],5,'Y')\n",
        "  \n",
        "  Y = MaxPooling2D(pool_size=(2,2),strides=(2,2),padding='valid',name=\"Normal_Block_MaxPool3_Y\")(Y)\n",
        "  Y = Inception_Block(Y,channel_list[5],6,'Y')\n",
        "  Y = Inception_Block(Y,channel_list[6],7,'Y')'''\n",
        "  \n",
        "  Y = AveragePooling2D(pool_size=(2,2),strides=(2,2),padding='valid',name='Normal_Block_AveragePool_Y')(Y)\n",
        "  Y = Flatten()(Y)\n",
        "  \n",
        "  if(output_neurons > 1):\n",
        "    activation = 'softmax'\n",
        "  else:\n",
        "    activation = 'sigmoid'\n",
        "\n",
        "  Y = Dense(output_neurons,activation=activation,kernel_initializer='glorot_uniform',bias_initializer='zeros',name='Normal_Layer_FullyConnected_Y',use_bias=True)(Y)\n",
        "  \n",
        "  A = Subtract()([X,Y])\n",
        "  A = Dense(50,activation='softmax',kernel_initializer='glorot_uniform', bias_initializer='zeros')(A)\n",
        "  A = Dense(1,activation='sigmoid',name=\"Siamese_Last_Layer\",kernel_initializer='glorot_uniform', bias_initializer='zeros')(A)\n",
        "  model = Model(inputs=[X_input,Y_input],outputs=A,name='Siamese_Keras_InceptionModel')\n",
        "  \n",
        "  return model"
      ],
      "execution_count": 0,
      "outputs": []
    },
    {
      "cell_type": "code",
      "metadata": {
        "id": "UpPWeDwOiWpj",
        "colab_type": "code",
        "colab": {}
      },
      "source": [
        "def Read_Image(image_path):\n",
        "  \n",
        "  import skimage\n",
        "  \n",
        "  image = plt.imread(image_path)\n",
        "  image = skimage.transform.resize(image,(64,64))\n",
        "  image = np.expand_dims(image,axis=0)\n",
        "  \n",
        "  return image"
      ],
      "execution_count": 0,
      "outputs": []
    },
    {
      "cell_type": "code",
      "metadata": {
        "id": "7LDg4tNNXaPq",
        "colab_type": "code",
        "colab": {}
      },
      "source": [
        "def Reshape_And_Normalize_Happy(train_set_X_orig,train_set_Y_orig,test_set_X_orig,test_set_Y_orig):\n",
        "  \n",
        "  m_train = train_set_X_orig.shape[0]\n",
        "  m_test = test_set_X_orig.shape[0]\n",
        "  train_set_X = train_set_X_orig.reshape(m_train,-1)\n",
        "  test_set_X = test_set_X_orig.reshape(m_test,-1)\n",
        "\n",
        "  train_set_Y = train_set_Y_orig.reshape((m_train,1))\n",
        "  test_set_Y = test_set_Y_orig.reshape((m_test,1))\n",
        "  \n",
        "  U_train = np.sum(train_set_X,axis=1,keepdims=True)/m_train\n",
        "  U_test = np.sum(test_set_X,axis=1,keepdims=True)/m_test\n",
        "  \n",
        "  train_set_X = train_set_X - U_train\n",
        "  test_set_X = test_set_X - U_test\n",
        "  \n",
        "  sigma_train = np.sqrt(np.sum(np.square(train_set_X),axis=1,keepdims=True)/m_train)\n",
        "  sigma_test = np.sqrt(np.sum(np.square(test_set_X),axis=1,keepdims=True)/m_test)\n",
        "  \n",
        "  train_set_X /= sigma_train\n",
        "  test_set_X /= sigma_test\n",
        "  \n",
        "  return train_set_X,train_set_Y,test_set_X,test_set_Y"
      ],
      "execution_count": 0,
      "outputs": []
    },
    {
      "cell_type": "code",
      "metadata": {
        "id": "kq51oRKnXP4N",
        "colab_type": "code",
        "colab": {}
      },
      "source": [
        "def Data_Preprocessing_Happy():\n",
        "  \n",
        "  train_set_X_orig,train_set_Y_orig,test_set_X_orig,test_set_Y_orig,classes = Load_Data()\n",
        "  train_set_X,train_set_Y,test_set_X,test_set_Y = Reshape_And_Normalize_Happy(train_set_X_orig,train_set_Y_orig,test_set_X_orig,test_set_Y_orig)\n",
        "  \n",
        "  return train_set_X,train_set_Y,test_set_X,test_set_Y"
      ],
      "execution_count": 0,
      "outputs": []
    },
    {
      "cell_type": "code",
      "metadata": {
        "id": "J71Oz9IoXJek",
        "colab_type": "code",
        "colab": {}
      },
      "source": [
        "def Propagation_Happy(input_shape,output_neurons):\n",
        "  \n",
        "  X_input = Input(input_shape)\n",
        "  X = X_input\n",
        "  \n",
        "  if(output_neurons > 1):\n",
        "    activation_type = 'softmax'\n",
        "  elif(output_neurons == 1):\n",
        "    activation_type = 'sigmoid'\n",
        "  \n",
        "  X = BatchNormalization(axis=1,name='BatchNormalization')(X)\n",
        "  X = Dense(output_neurons,use_bias=True,activation=activation_type,kernel_initializer='glorot_uniform', bias_initializer='zeros',name='FullyConnected',kernel_regularizer=regularizers.l2(0.01))(X)\n",
        "  \n",
        "  model = keras.models.Model(inputs=X_input,outputs=X,name=\"ANN_Keras\")\n",
        "  \n",
        "  return model"
      ],
      "execution_count": 0,
      "outputs": []
    },
    {
      "cell_type": "code",
      "metadata": {
        "id": "pbCzFdKuW2N3",
        "colab_type": "code",
        "colab": {}
      },
      "source": [
        "def Caller_Function_Happy():\n",
        "  \n",
        "  train_set_X,train_set_Y,test_set_X,test_set_Y = Data_Preprocessing_Happy()\n",
        "  epochs = 10\n",
        "  mini_batch_size = 50\n",
        "  output_neurons = 1\n",
        "  \n",
        "  if(output_neurons > 1):\n",
        "    train_set_Y = np.eye(output_neurons)[train_set_Y.T][0]\n",
        "    test_set_Y = np.eye(output_neurons)[test_set_Y.T][0]\n",
        "    loss_val = 'categorical_crossentropy'\n",
        "  elif(output_neurons == 1):\n",
        "    loss_val = 'binary_crossentropy'\n",
        "    \n",
        "  input_shape = [train_set_X.shape[1]]\n",
        " \n",
        "  model = Propagation_Happy(input_shape,output_neurons)\n",
        "  model.compile(loss=loss_val,optimizer='adam',metrics=['accuracy'])\n",
        "  print(\"\\n---------------------------------------------Happy House Start-------------------------------------------\\n\")\n",
        "  model.fit(x=train_set_X[0:50,:],y=train_set_Y[0:50,:],epochs=epochs,batch_size=mini_batch_size)\n",
        "  \n",
        "  return model"
      ],
      "execution_count": 0,
      "outputs": []
    },
    {
      "cell_type": "code",
      "metadata": {
        "id": "ZGncYtH7BMpe",
        "colab_type": "code",
        "colab": {}
      },
      "source": [
        "def Caller_Function():\n",
        "  \n",
        "  model_happy = Caller_Function_Happy()\n",
        "  train_X1,train_X2,train_Y,database = Data_Preprocessing()\n",
        "  epochs = 5\n",
        "  mini_batch_size = 2\n",
        "  output_neurons = 128\n",
        "  \n",
        "  shape = train_X1.shape\n",
        "  shape = (shape[1],shape[2],shape[3])\n",
        " \n",
        "  channel_list = [[96,128,16,32,32,64],[96,128,32,64,64,64],[128,256,32,64,16,32],[96,192,32,64,128,256],[160,256,64,128,32,64],[96,128,64,128,192,256],[192,512,128,256,512,512]]\n",
        "  model = Propagation(shape,output_neurons,channel_list)\n",
        "  opt = Adam(lr=0.5)\n",
        "  model.compile(loss='mean_squared_error',optimizer=opt,metrics=['accuracy'])\n",
        "  print(\"\\n---------------------------------------------Siamese Start-------------------------------------------\\n\")\n",
        "  model.fit(x=[train_X1,train_X2],y=train_Y,epochs=epochs,batch_size=mini_batch_size)\n",
        "  \n",
        "  return model_happy,model,database,train_X1\n",
        "\n",
        "  #model.summary()"
      ],
      "execution_count": 0,
      "outputs": []
    },
    {
      "cell_type": "code",
      "metadata": {
        "id": "KTN4S_ArR4Be",
        "colab_type": "code",
        "colab": {
          "base_uri": "https://localhost:8080/",
          "height": 672
        },
        "outputId": "df3c5fd2-ac79-4726-eb52-73f0fc90d668"
      },
      "source": [
        "model_happy,model,database,train_X1 = Caller_Function()"
      ],
      "execution_count": 147,
      "outputs": [
        {
          "output_type": "stream",
          "text": [
            "\n",
            "---------------------------------------------Happy House Start-------------------------------------------\n",
            "\n",
            "Epoch 1/10\n",
            "50/50 [==============================] - 27s 536ms/step - loss: 0.7147 - acc: 0.5800\n",
            "Epoch 2/10\n",
            "50/50 [==============================] - 0s 775us/step - loss: 0.6406 - acc: 0.7000\n",
            "Epoch 3/10\n",
            "50/50 [==============================] - 0s 791us/step - loss: 0.5814 - acc: 0.6800\n",
            "Epoch 4/10\n",
            "50/50 [==============================] - 0s 703us/step - loss: 0.5343 - acc: 0.7200\n",
            "Epoch 5/10\n",
            "50/50 [==============================] - 0s 746us/step - loss: 0.4937 - acc: 0.7200\n",
            "Epoch 6/10\n",
            "50/50 [==============================] - 0s 722us/step - loss: 0.4578 - acc: 0.7400\n",
            "Epoch 7/10\n",
            "50/50 [==============================] - 0s 887us/step - loss: 0.4263 - acc: 0.8600\n",
            "Epoch 8/10\n",
            "50/50 [==============================] - 0s 752us/step - loss: 0.3988 - acc: 0.8600\n",
            "Epoch 9/10\n",
            "50/50 [==============================] - 0s 839us/step - loss: 0.3738 - acc: 0.9200\n",
            "Epoch 10/10\n",
            "50/50 [==============================] - 0s 681us/step - loss: 0.3504 - acc: 0.9400\n",
            "\n",
            "---------------------------------------------Siamese Start-------------------------------------------\n",
            "\n",
            "Epoch 1/5\n",
            "20/20 [==============================] - 29s 1s/step - loss: 0.3082 - acc: 0.6500\n",
            "Epoch 2/5\n",
            "20/20 [==============================] - 2s 81ms/step - loss: 0.2607 - acc: 0.5500\n",
            "Epoch 3/5\n",
            "20/20 [==============================] - 2s 80ms/step - loss: 0.3125 - acc: 0.6500\n",
            "Epoch 4/5\n",
            "20/20 [==============================] - 2s 84ms/step - loss: 0.3174 - acc: 0.6500\n",
            "Epoch 5/5\n",
            "20/20 [==============================] - 2s 81ms/step - loss: 0.2740 - acc: 0.6500\n"
          ],
          "name": "stdout"
        }
      ]
    },
    {
      "cell_type": "code",
      "metadata": {
        "id": "5u6ka-eqNcHU",
        "colab_type": "code",
        "colab": {}
      },
      "source": [
        "def evaluate(model_happy,model,database,train_X1):\n",
        "  print('')\n",
        "  name = 'arnaud'\n",
        "  model_type = \"verification\"\n",
        "  if(model_type == 'verification'):\n",
        "    image_path = database[name]\n",
        "    anchor = Read_Image(image_path)\n",
        "    i = 10\n",
        "    person = np.zeros((1,64,64,3))\n",
        "    person[0,:,:,:] = train_X1[i,:,:,:]\n",
        "    out = model.predict(x=[anchor,person])\n",
        "    if(out[0][0] >= 0.4):\n",
        "      print('Same',out)\n",
        "      img = person.reshape((person.shape[0],-1))\n",
        "      ans = np.ceil(model_happy.predict(img))\n",
        "      print('Allowed' if ans else 'Rejected')\n",
        "    else:\n",
        "      print('Different',out)\n",
        "  \n",
        "  else:\n",
        "    mx = -100.0\n",
        "    i = 5\n",
        "    person = np.zeros((1,64,64,3))\n",
        "    person[0,:,:,:] = train_X1[i,:,:,:]\n",
        "    \n",
        "    for names in database:\n",
        "      image_path = database[names]\n",
        "      anchor = Read_Image(image_path)\n",
        "      out = model.predict(x=[anchor,person])\n",
        "      if(out[0][0] > mx):\n",
        "        mx = out[0][0]\n",
        "        person_name = names\n",
        "\n",
        "    if(mx >= 0.4):\n",
        "      print('Hello '+person_name)\n",
        "      img = person.reshape((person.shape[0],-1))\n",
        "      ans = np.ceil(model_happy.predict(img))\n",
        "      print('Allowed' if ans else 'Rejected')\n",
        "    else:\n",
        "      print('Not in Database')\n",
        "      "
      ],
      "execution_count": 0,
      "outputs": []
    },
    {
      "cell_type": "code",
      "metadata": {
        "id": "KF7Tuq1nNfzA",
        "colab_type": "code",
        "colab": {
          "base_uri": "https://localhost:8080/",
          "height": 54
        },
        "outputId": "237203f0-5576-43aa-a3ca-f7494b032aba"
      },
      "source": [
        "evaluate(model_happy,model,database,train_X1)"
      ],
      "execution_count": 153,
      "outputs": [
        {
          "output_type": "stream",
          "text": [
            "\n",
            "Different [[0.37951922]]\n"
          ],
          "name": "stdout"
        }
      ]
    },
    {
      "cell_type": "code",
      "metadata": {
        "id": "pMW7HEkKgy6l",
        "colab_type": "code",
        "colab": {
          "base_uri": "https://localhost:8080/",
          "height": 1000
        },
        "outputId": "fafe25ec-c144-4c8a-e86c-3680fc659472"
      },
      "source": [
        "model_happy.summary()\n",
        "model.summary()"
      ],
      "execution_count": 137,
      "outputs": [
        {
          "output_type": "stream",
          "text": [
            "_________________________________________________________________\n",
            "Layer (type)                 Output Shape              Param #   \n",
            "=================================================================\n",
            "input_31 (InputLayer)        (None, 12288)             0         \n",
            "_________________________________________________________________\n",
            "BatchNormalization (BatchNor (None, 12288)             49152     \n",
            "_________________________________________________________________\n",
            "FullyConnected (Dense)       (None, 1)                 12289     \n",
            "=================================================================\n",
            "Total params: 61,441\n",
            "Trainable params: 36,865\n",
            "Non-trainable params: 24,576\n",
            "_________________________________________________________________\n",
            "__________________________________________________________________________________________________\n",
            "Layer (type)                    Output Shape         Param #     Connected to                     \n",
            "==================================================================================================\n",
            "input_32 (InputLayer)           (None, 64, 64, 3)    0                                            \n",
            "__________________________________________________________________________________________________\n",
            "input_33 (InputLayer)           (None, 64, 64, 3)    0                                            \n",
            "__________________________________________________________________________________________________\n",
            "zero_padding2d_243 (ZeroPadding (None, 70, 70, 3)    0           input_32[0][0]                   \n",
            "__________________________________________________________________________________________________\n",
            "zero_padding2d_244 (ZeroPadding (None, 70, 70, 3)    0           input_33[0][0]                   \n",
            "__________________________________________________________________________________________________\n",
            "Normal_Block_Conv2D_X (Conv2D)  (None, 68, 68, 64)   1792        zero_padding2d_243[0][0]         \n",
            "__________________________________________________________________________________________________\n",
            "Normal_Block_Conv2D_Y (Conv2D)  (None, 68, 68, 64)   1792        zero_padding2d_244[0][0]         \n",
            "__________________________________________________________________________________________________\n",
            "Normal_Block_BatchNorm_X (Batch (None, 68, 68, 64)   256         Normal_Block_Conv2D_X[0][0]      \n",
            "__________________________________________________________________________________________________\n",
            "Normal_Block_BatchNorm_Y (Batch (None, 68, 68, 64)   256         Normal_Block_Conv2D_Y[0][0]      \n",
            "__________________________________________________________________________________________________\n",
            "activation_691 (Activation)     (None, 68, 68, 64)   0           Normal_Block_BatchNorm_X[0][0]   \n",
            "__________________________________________________________________________________________________\n",
            "activation_692 (Activation)     (None, 68, 68, 64)   0           Normal_Block_BatchNorm_Y[0][0]   \n",
            "__________________________________________________________________________________________________\n",
            "Normal_Block_MaxPool1_X (MaxPoo (None, 34, 34, 64)   0           activation_691[0][0]             \n",
            "__________________________________________________________________________________________________\n",
            "Normal_Block_MaxPool1_Y (MaxPoo (None, 34, 34, 64)   0           activation_692[0][0]             \n",
            "__________________________________________________________________________________________________\n",
            "Normal_Block_AveragePool_X (Ave (None, 17, 17, 64)   0           Normal_Block_MaxPool1_X[0][0]    \n",
            "__________________________________________________________________________________________________\n",
            "Normal_Block_AveragePool_Y (Ave (None, 17, 17, 64)   0           Normal_Block_MaxPool1_Y[0][0]    \n",
            "__________________________________________________________________________________________________\n",
            "flatten_19 (Flatten)            (None, 18496)        0           Normal_Block_AveragePool_X[0][0] \n",
            "__________________________________________________________________________________________________\n",
            "flatten_20 (Flatten)            (None, 18496)        0           Normal_Block_AveragePool_Y[0][0] \n",
            "__________________________________________________________________________________________________\n",
            "Normal_Layer_FullyConnected_X ( (None, 128)          2367616     flatten_19[0][0]                 \n",
            "__________________________________________________________________________________________________\n",
            "Normal_Layer_FullyConnected_Y ( (None, 128)          2367616     flatten_20[0][0]                 \n",
            "__________________________________________________________________________________________________\n",
            "subtract_10 (Subtract)          (None, 128)          0           Normal_Layer_FullyConnected_X[0][\n",
            "                                                                 Normal_Layer_FullyConnected_Y[0][\n",
            "__________________________________________________________________________________________________\n",
            "dense_7 (Dense)                 (None, 50)           6450        subtract_10[0][0]                \n",
            "__________________________________________________________________________________________________\n",
            "Siamese_Last_Layer (Dense)      (None, 1)            51          dense_7[0][0]                    \n",
            "==================================================================================================\n",
            "Total params: 4,745,829\n",
            "Trainable params: 4,745,573\n",
            "Non-trainable params: 256\n",
            "__________________________________________________________________________________________________\n"
          ],
          "name": "stdout"
        }
      ]
    },
    {
      "cell_type": "code",
      "metadata": {
        "id": "akUs2wIfioTk",
        "colab_type": "code",
        "colab": {}
      },
      "source": [
        ""
      ],
      "execution_count": 0,
      "outputs": []
    }
  ]
}